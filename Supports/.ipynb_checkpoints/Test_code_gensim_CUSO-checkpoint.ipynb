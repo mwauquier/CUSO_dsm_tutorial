{
 "cells": [
  {
   "cell_type": "code",
   "execution_count": 2,
   "id": "b7ecbdaa",
   "metadata": {},
   "outputs": [
    {
     "name": "stdout",
     "output_type": "stream",
     "text": [
      "Requirement already satisfied: pip in /home/mwauquier/Enseignement/2022-2023/Interventions_externes/CUSO_Neuchatel/lib/python3.10/site-packages (22.3)\n",
      "Collecting pip\n",
      "  Using cached pip-22.3.1-py3-none-any.whl (2.1 MB)\n",
      "Installing collected packages: pip\n",
      "  Attempting uninstall: pip\n",
      "    Found existing installation: pip 22.3\n",
      "    Uninstalling pip-22.3:\n",
      "      Successfully uninstalled pip-22.3\n",
      "Successfully installed pip-22.3.1\n"
     ]
    }
   ],
   "source": [
    "!pip install --upgrade pip"
   ]
  },
  {
   "cell_type": "code",
   "execution_count": 17,
   "id": "1831c38a",
   "metadata": {},
   "outputs": [],
   "source": [
    "from gensim.models import Word2Vec"
   ]
  },
  {
   "cell_type": "code",
   "execution_count": 19,
   "id": "bec3f9a5",
   "metadata": {},
   "outputs": [],
   "source": [
    "import gensim"
   ]
  },
  {
   "cell_type": "markdown",
   "id": "3784d23e",
   "metadata": {},
   "source": [
    "Pour entraîner word2vec, il suffit d'avoir un corpus au format txt. On va donner ce corpus ligne par ligne et tokenizé à word2vec."
   ]
  },
  {
   "cell_type": "code",
   "execution_count": 15,
   "id": "960994f3",
   "metadata": {},
   "outputs": [],
   "source": [
    "from gensim.models.word2vec import LineSentence\n",
    "from itertools import islice\n",
    "\n",
    "data = LineSentence('/home/mwauquier/Enseignement/2022-2023/Interventions_externes/CUSO_Neuchatel/tiny_sample_bnc.txt')"
   ]
  },
  {
   "cell_type": "code",
   "execution_count": 20,
   "id": "1760a570",
   "metadata": {},
   "outputs": [],
   "source": [
    "model_default = gensim.models.Word2Vec(data)"
   ]
  },
  {
   "cell_type": "code",
   "execution_count": 55,
   "id": "a2ab0ce3",
   "metadata": {
    "scrolled": true
   },
   "outputs": [
    {
     "data": {
      "text/plain": [
       "[('deposit', 0.6857702732086182),\n",
       " ('retail', 0.6653158068656921),\n",
       " ('goods', 0.6610774397850037),\n",
       " ('monthly', 0.658734142780304),\n",
       " ('bills', 0.6531860828399658),\n",
       " ('loans', 0.6460328698158264),\n",
       " ('investments', 0.6432358622550964),\n",
       " ('stocks', 0.6424005031585693),\n",
       " ('purchases', 0.6396265625953674),\n",
       " ('equipment', 0.6319220662117004)]"
      ]
     },
     "execution_count": 55,
     "metadata": {},
     "output_type": "execute_result"
    }
   ],
   "source": [
    "model_default.wv.most_similar(\"stock\")"
   ]
  },
  {
   "cell_type": "markdown",
   "id": "99063af7",
   "metadata": {},
   "source": [
    "# Test avec Gutenberg"
   ]
  },
  {
   "cell_type": "code",
   "execution_count": 28,
   "id": "a707c6fd",
   "metadata": {},
   "outputs": [
    {
     "name": "stdout",
     "output_type": "stream",
     "text": [
      "Collecting nltk\n",
      "  Using cached nltk-3.7-py3-none-any.whl (1.5 MB)\n",
      "Collecting tqdm\n",
      "  Using cached tqdm-4.64.1-py2.py3-none-any.whl (78 kB)\n",
      "Collecting click\n",
      "  Using cached click-8.1.3-py3-none-any.whl (96 kB)\n",
      "Collecting regex>=2021.8.3\n",
      "  Using cached regex-2022.10.31-cp310-cp310-manylinux_2_17_x86_64.manylinux2014_x86_64.whl (770 kB)\n",
      "Collecting joblib\n",
      "  Using cached joblib-1.2.0-py3-none-any.whl (297 kB)\n",
      "Installing collected packages: tqdm, regex, joblib, click, nltk\n",
      "Successfully installed click-8.1.3 joblib-1.2.0 nltk-3.7 regex-2022.10.31 tqdm-4.64.1\n"
     ]
    }
   ],
   "source": [
    "!pip install nltk"
   ]
  },
  {
   "cell_type": "code",
   "execution_count": 29,
   "id": "b223839a",
   "metadata": {},
   "outputs": [],
   "source": [
    "import nltk\n",
    "import re\n",
    "from nltk.corpus import gutenberg"
   ]
  },
  {
   "cell_type": "code",
   "execution_count": 51,
   "id": "ed254dbf",
   "metadata": {},
   "outputs": [
    {
     "name": "stderr",
     "output_type": "stream",
     "text": [
      "[nltk_data] Downloading package gutenberg to\n",
      "[nltk_data]     /home/mwauquier/nltk_data...\n",
      "[nltk_data]   Package gutenberg is already up-to-date!\n",
      "[nltk_data] Downloading package punkt to /home/mwauquier/nltk_data...\n",
      "[nltk_data]   Unzipping tokenizers/punkt.zip.\n"
     ]
    },
    {
     "data": {
      "text/plain": [
       "True"
      ]
     },
     "execution_count": 51,
     "metadata": {},
     "output_type": "execute_result"
    }
   ],
   "source": [
    "nltk.download('gutenberg')\n",
    "nltk.download('punkt')"
   ]
  },
  {
   "cell_type": "code",
   "execution_count": null,
   "id": "fc9855e2",
   "metadata": {},
   "outputs": [],
   "source": []
  },
  {
   "cell_type": "code",
   "execution_count": 32,
   "id": "4dbbb19e",
   "metadata": {},
   "outputs": [],
   "source": [
    "emma = gutenberg.raw('austen-emma.txt')"
   ]
  },
  {
   "cell_type": "code",
   "execution_count": 33,
   "id": "91e78a20",
   "metadata": {},
   "outputs": [
    {
     "name": "stdout",
     "output_type": "stream",
     "text": [
      "[Emma by Jane Austen 1816]\n",
      "\n",
      "VOLUME I\n",
      "\n",
      "CHAPTER I\n",
      "\n",
      "\n",
      "Emma Woodhouse, handsome, clever, and rich, with a comfortable home\n",
      "and happy disposition, seemed to unite some of the best blessings\n",
      "of existence; and had lived nearly twenty-one years in the world\n",
      "with very little to distress or vex her.\n",
      "\n",
      "She was the youngest of the two daughters of a most affectionate,\n",
      "indulgent father; and had, in consequence o\n"
     ]
    }
   ],
   "source": [
    "print(emma[:400])"
   ]
  },
  {
   "cell_type": "code",
   "execution_count": 45,
   "id": "72e7b305",
   "metadata": {},
   "outputs": [],
   "source": [
    "def text_cleaner(text):\n",
    "    #text = re.sub(r'--', ' ', text)\n",
    "    text = re.sub('[\\[].*?[\\]]', '', text)\n",
    "    text = re.sub('VOLUME.+?\\n', '', text)\n",
    "    text = re.sub('CHAPTER.+?\\n', '', text)\n",
    "    text = ' '.join(text.split())\n",
    "    text = re.sub('\\.', '\\n\\n', text)\n",
    "    return text\n",
    "\n",
    "#apply cleaning function to corpus\n",
    "emma_clean = text_cleaner(emma)"
   ]
  },
  {
   "cell_type": "code",
   "execution_count": 46,
   "id": "1f82f0c1",
   "metadata": {},
   "outputs": [
    {
     "name": "stdout",
     "output_type": "stream",
     "text": [
      "Emma Woodhouse, handsome, clever, and rich, with a comfortable home and happy disposition, seemed to unite some of the best blessings of existence; and had lived nearly twenty-one years in the world with very little to distress or vex her She was the youngest of the two daughters of a most affectionate, indulgent father; and had, in consequence of her sister's marriage, been mistress of his house \n"
     ]
    }
   ],
   "source": [
    "print(emma_clean[:400])"
   ]
  },
  {
   "cell_type": "markdown",
   "id": "7212da7d",
   "metadata": {},
   "source": [
    "The sents() function divides the text up into its sentences, where each sentence is a list of words:"
   ]
  },
  {
   "cell_type": "code",
   "execution_count": 49,
   "id": "f8988fca",
   "metadata": {},
   "outputs": [],
   "source": [
    "emma_sentences = gutenberg.sents('austen-emma.txt')"
   ]
  },
  {
   "cell_type": "code",
   "execution_count": 52,
   "id": "470e9a4b",
   "metadata": {},
   "outputs": [],
   "source": [
    "model_emma = gensim.models.Word2Vec(emma_sentences)"
   ]
  },
  {
   "cell_type": "code",
   "execution_count": 54,
   "id": "6cda55d0",
   "metadata": {},
   "outputs": [
    {
     "data": {
      "text/plain": [
       "[('young', 0.9697303771972656),\n",
       " ('woman', 0.96356201171875),\n",
       " ('deal', 0.9597120881080627),\n",
       " ('good', 0.9541610479354858),\n",
       " ('possibility', 0.9486123919487),\n",
       " ('such', 0.9474068880081177),\n",
       " ('pleasure', 0.9471594095230103),\n",
       " ('style', 0.9468291401863098),\n",
       " ('great', 0.946519136428833),\n",
       " ('change', 0.9452611207962036)]"
      ]
     },
     "execution_count": 54,
     "metadata": {},
     "output_type": "execute_result"
    }
   ],
   "source": [
    "model_emma.wv.most_similar(\"man\")"
   ]
  },
  {
   "cell_type": "code",
   "execution_count": 56,
   "id": "605640a3",
   "metadata": {},
   "outputs": [],
   "source": [
    "emma_word_vectors = model_emma.wv\n",
    "emma_word_vectors.save(\"word2vec_emma.wordvectors\")"
   ]
  },
  {
   "cell_type": "code",
   "execution_count": 61,
   "id": "c676abdc",
   "metadata": {},
   "outputs": [],
   "source": [
    "import gensim.models.keyedvectors as word2vec\n",
    "emma = gensim.models.KeyedVectors.load(\"word2vec_emma.wordvectors\")"
   ]
  },
  {
   "cell_type": "code",
   "execution_count": 63,
   "id": "a5df97d6",
   "metadata": {},
   "outputs": [
    {
     "data": {
      "text/plain": [
       "[('young', 0.9697303771972656),\n",
       " ('woman', 0.96356201171875),\n",
       " ('deal', 0.9597120881080627),\n",
       " ('good', 0.9541610479354858),\n",
       " ('possibility', 0.9486123919487),\n",
       " ('such', 0.9474068880081177),\n",
       " ('pleasure', 0.9471594095230103),\n",
       " ('style', 0.9468291401863098),\n",
       " ('great', 0.946519136428833),\n",
       " ('change', 0.9452611207962036)]"
      ]
     },
     "execution_count": 63,
     "metadata": {},
     "output_type": "execute_result"
    }
   ],
   "source": [
    "emma.most_similar('man')"
   ]
  }
 ],
 "metadata": {
  "kernelspec": {
   "display_name": "Python 3 (ipykernel)",
   "language": "python",
   "name": "python3"
  },
  "language_info": {
   "codemirror_mode": {
    "name": "ipython",
    "version": 3
   },
   "file_extension": ".py",
   "mimetype": "text/x-python",
   "name": "python",
   "nbconvert_exporter": "python",
   "pygments_lexer": "ipython3",
   "version": "3.10.6"
  }
 },
 "nbformat": 4,
 "nbformat_minor": 5
}
